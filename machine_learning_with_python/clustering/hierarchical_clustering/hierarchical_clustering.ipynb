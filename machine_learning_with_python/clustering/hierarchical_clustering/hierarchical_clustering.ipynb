{
 "cells": [
  {
   "cell_type": "markdown",
   "metadata": {},
   "source": [
    "# Работа с количественными данными"
   ]
  },
  {
   "cell_type": "markdown",
   "metadata": {},
   "source": [
    "$\\sin(\\cos(x))$"
   ]
  },
  {
   "cell_type": "markdown",
   "metadata": {},
   "source": [
    "## Чтение данных из файла\n",
    "\n",
    "Для ознакомления с необходимым материал рекомендую книгу [1, глава 6, стр. 175].     \n",
    "В рассматриваемом примере исходные данные хранятся в txt-файле, разделенные знаком табуляции.    \n",
    "Для чтения воспользуемся функцией `.read_table()`.    \n",
    "В качестве параметров передадим\n",
    "- `path` -- путь к файлу;\n",
    "- `encoding` -- исходную кодировку, в которой хранятся данные;\n",
    "- `sep` -- последовательность символов или регулярное выражение, служащее для разделения полей в строке: ',',';','\\t'(знак табуляции), '\\s+' -- если поля разделены переменным числом пробелов;\n",
    "- `nrows` -- количество читаемых строк от начала файла.\n",
    "\n",
    "Подключаем библиотеку `pandas` и загружаем исходные данные в датафрейм `df` "
   ]
  },
  {
   "cell_type": "code",
   "execution_count": 191,
   "metadata": {},
   "outputs": [],
   "source": [
    "import pandas as pd\n",
    "pd.set_option('display.precision',3)\n",
    "df=pd.read_table('mobile.txt', encoding='1251', sep='\\t', nrows=100)"
   ]
  },
  {
   "cell_type": "markdown",
   "metadata": {},
   "source": [
    "## Получение предварительной информации о массиве данных   \n",
    "\n",
    "Для получения предварительной информации об анализируемом массиве можно воспользоваться следующими возможностями Python    \n",
    "- Просмотр с помощью свойства `.head()` указанного числа первых строк датафрейма. По умолчанию выводится 5 первых строк датафрейма;\n",
    "- Размерность датафрейма можно узнать с помощью свойства .shape;\n",
    "- Просмотр заголовков столбов с помощью свойства .columns;\n",
    "- Просмотр информации о типах переменных с помощью свойства `.info()`;\n",
    "- Вывод общей информации о наличие пропусков во всех переменных можно осуществить, воспользовавшись цепочкой методов `.isnull()` и `.sum()`"
   ]
  },
  {
   "cell_type": "code",
   "execution_count": 192,
   "metadata": {},
   "outputs": [
    {
     "data": {
      "text/html": [
       "<div>\n",
       "<style scoped>\n",
       "    .dataframe tbody tr th:only-of-type {\n",
       "        vertical-align: middle;\n",
       "    }\n",
       "\n",
       "    .dataframe tbody tr th {\n",
       "        vertical-align: top;\n",
       "    }\n",
       "\n",
       "    .dataframe thead th {\n",
       "        text-align: right;\n",
       "    }\n",
       "</style>\n",
       "<table border=\"1\" class=\"dataframe\">\n",
       "  <thead>\n",
       "    <tr style=\"text-align: right;\">\n",
       "      <th></th>\n",
       "      <th>Код</th>\n",
       "      <th>Возраст</th>\n",
       "      <th>Среднемесячный расход</th>\n",
       "      <th>Средняя продолжительность разговоров</th>\n",
       "      <th>Звонков днем за месяц</th>\n",
       "      <th>Звонков вечером за месяц</th>\n",
       "      <th>Звонков ночью за месяц</th>\n",
       "      <th>Звонки в другие города</th>\n",
       "      <th>Звонки в другие страны</th>\n",
       "      <th>Доля звонков на стационарные телефоны</th>\n",
       "      <th>Количество SMS за месяц</th>\n",
       "    </tr>\n",
       "  </thead>\n",
       "  <tbody>\n",
       "    <tr>\n",
       "      <th>0</th>\n",
       "      <td>0</td>\n",
       "      <td>24</td>\n",
       "      <td>121.54</td>\n",
       "      <td>2.4</td>\n",
       "      <td>12</td>\n",
       "      <td>65</td>\n",
       "      <td>5</td>\n",
       "      <td>0</td>\n",
       "      <td>0</td>\n",
       "      <td>5</td>\n",
       "      <td>56</td>\n",
       "    </tr>\n",
       "    <tr>\n",
       "      <th>1</th>\n",
       "      <td>1</td>\n",
       "      <td>51</td>\n",
       "      <td>287.51</td>\n",
       "      <td>1.7</td>\n",
       "      <td>111</td>\n",
       "      <td>109</td>\n",
       "      <td>1</td>\n",
       "      <td>44</td>\n",
       "      <td>0</td>\n",
       "      <td>6</td>\n",
       "      <td>1</td>\n",
       "    </tr>\n",
       "    <tr>\n",
       "      <th>2</th>\n",
       "      <td>2</td>\n",
       "      <td>41</td>\n",
       "      <td>113.70</td>\n",
       "      <td>2.1</td>\n",
       "      <td>41</td>\n",
       "      <td>27</td>\n",
       "      <td>0</td>\n",
       "      <td>0</td>\n",
       "      <td>0</td>\n",
       "      <td>1</td>\n",
       "      <td>36</td>\n",
       "    </tr>\n",
       "    <tr>\n",
       "      <th>3</th>\n",
       "      <td>3</td>\n",
       "      <td>35</td>\n",
       "      <td>410.23</td>\n",
       "      <td>5.6</td>\n",
       "      <td>47</td>\n",
       "      <td>49</td>\n",
       "      <td>0</td>\n",
       "      <td>0</td>\n",
       "      <td>0</td>\n",
       "      <td>11</td>\n",
       "      <td>23</td>\n",
       "    </tr>\n",
       "    <tr>\n",
       "      <th>4</th>\n",
       "      <td>4</td>\n",
       "      <td>26</td>\n",
       "      <td>537.60</td>\n",
       "      <td>4.8</td>\n",
       "      <td>58</td>\n",
       "      <td>77</td>\n",
       "      <td>4</td>\n",
       "      <td>0</td>\n",
       "      <td>0</td>\n",
       "      <td>16</td>\n",
       "      <td>29</td>\n",
       "    </tr>\n",
       "  </tbody>\n",
       "</table>\n",
       "</div>"
      ],
      "text/plain": [
       "   Код  Возраст  Среднемесячный расход  Средняя продолжительность разговоров  \\\n",
       "0    0       24                 121.54                                   2.4   \n",
       "1    1       51                 287.51                                   1.7   \n",
       "2    2       41                 113.70                                   2.1   \n",
       "3    3       35                 410.23                                   5.6   \n",
       "4    4       26                 537.60                                   4.8   \n",
       "\n",
       "   Звонков днем за месяц  Звонков вечером за месяц  Звонков ночью за месяц  \\\n",
       "0                     12                        65                       5   \n",
       "1                    111                       109                       1   \n",
       "2                     41                        27                       0   \n",
       "3                     47                        49                       0   \n",
       "4                     58                        77                       4   \n",
       "\n",
       "   Звонки в другие города  Звонки в другие страны  \\\n",
       "0                       0                       0   \n",
       "1                      44                       0   \n",
       "2                       0                       0   \n",
       "3                       0                       0   \n",
       "4                       0                       0   \n",
       "\n",
       "   Доля звонков на стационарные телефоны  Количество SMS за месяц  \n",
       "0                                      5                       56  \n",
       "1                                      6                        1  \n",
       "2                                      1                       36  \n",
       "3                                     11                       23  \n",
       "4                                     16                       29  "
      ]
     },
     "execution_count": 192,
     "metadata": {},
     "output_type": "execute_result"
    }
   ],
   "source": [
    "df.head()"
   ]
  },
  {
   "cell_type": "code",
   "execution_count": 193,
   "metadata": {},
   "outputs": [
    {
     "data": {
      "text/html": [
       "<div>\n",
       "<style scoped>\n",
       "    .dataframe tbody tr th:only-of-type {\n",
       "        vertical-align: middle;\n",
       "    }\n",
       "\n",
       "    .dataframe tbody tr th {\n",
       "        vertical-align: top;\n",
       "    }\n",
       "\n",
       "    .dataframe thead th {\n",
       "        text-align: right;\n",
       "    }\n",
       "</style>\n",
       "<table border=\"1\" class=\"dataframe\">\n",
       "  <thead>\n",
       "    <tr style=\"text-align: right;\">\n",
       "      <th></th>\n",
       "      <th>Возраст</th>\n",
       "      <th>Средняя продолжительность разговоров</th>\n",
       "      <th>Звонков вечером за месяц</th>\n",
       "    </tr>\n",
       "  </thead>\n",
       "  <tbody>\n",
       "    <tr>\n",
       "      <th>0</th>\n",
       "      <td>24</td>\n",
       "      <td>2.4</td>\n",
       "      <td>65</td>\n",
       "    </tr>\n",
       "    <tr>\n",
       "      <th>1</th>\n",
       "      <td>51</td>\n",
       "      <td>1.7</td>\n",
       "      <td>109</td>\n",
       "    </tr>\n",
       "    <tr>\n",
       "      <th>2</th>\n",
       "      <td>41</td>\n",
       "      <td>2.1</td>\n",
       "      <td>27</td>\n",
       "    </tr>\n",
       "    <tr>\n",
       "      <th>3</th>\n",
       "      <td>35</td>\n",
       "      <td>5.6</td>\n",
       "      <td>49</td>\n",
       "    </tr>\n",
       "    <tr>\n",
       "      <th>4</th>\n",
       "      <td>26</td>\n",
       "      <td>4.8</td>\n",
       "      <td>77</td>\n",
       "    </tr>\n",
       "    <tr>\n",
       "      <th>...</th>\n",
       "      <td>...</td>\n",
       "      <td>...</td>\n",
       "      <td>...</td>\n",
       "    </tr>\n",
       "    <tr>\n",
       "      <th>95</th>\n",
       "      <td>29</td>\n",
       "      <td>18.2</td>\n",
       "      <td>78</td>\n",
       "    </tr>\n",
       "    <tr>\n",
       "      <th>96</th>\n",
       "      <td>54</td>\n",
       "      <td>1.1</td>\n",
       "      <td>68</td>\n",
       "    </tr>\n",
       "    <tr>\n",
       "      <th>97</th>\n",
       "      <td>25</td>\n",
       "      <td>3.7</td>\n",
       "      <td>45</td>\n",
       "    </tr>\n",
       "    <tr>\n",
       "      <th>98</th>\n",
       "      <td>54</td>\n",
       "      <td>2.8</td>\n",
       "      <td>98</td>\n",
       "    </tr>\n",
       "    <tr>\n",
       "      <th>99</th>\n",
       "      <td>47</td>\n",
       "      <td>3.8</td>\n",
       "      <td>126</td>\n",
       "    </tr>\n",
       "  </tbody>\n",
       "</table>\n",
       "<p>100 rows × 3 columns</p>\n",
       "</div>"
      ],
      "text/plain": [
       "    Возраст  Средняя продолжительность разговоров  Звонков вечером за месяц\n",
       "0        24                                   2.4                        65\n",
       "1        51                                   1.7                       109\n",
       "2        41                                   2.1                        27\n",
       "3        35                                   5.6                        49\n",
       "4        26                                   4.8                        77\n",
       "..      ...                                   ...                       ...\n",
       "95       29                                  18.2                        78\n",
       "96       54                                   1.1                        68\n",
       "97       25                                   3.7                        45\n",
       "98       54                                   2.8                        98\n",
       "99       47                                   3.8                       126\n",
       "\n",
       "[100 rows x 3 columns]"
      ]
     },
     "execution_count": 193,
     "metadata": {},
     "output_type": "execute_result"
    }
   ],
   "source": [
    "df.iloc[:,1:6:2]"
   ]
  },
  {
   "cell_type": "markdown",
   "metadata": {},
   "source": [
    "ДОПОЛНИТЕЛЬНАЯ ИНФОРМАЦИЯ: С помощью свойства `.tail()` можно просмотреть заданное число последних строк массива. По умолчанию выводится 5 строк "
   ]
  },
  {
   "cell_type": "markdown",
   "metadata": {},
   "source": [
    "+ Размерность датафрейма можно узнать с помощью свойства `.shape`    \n",
    "ДОПОЛНИТЕЛЬНАЯ ИНФОРМАЦИЯ: количество строк датафрейма можно узнать с помощью метода `len()`"
   ]
  },
  {
   "cell_type": "code",
   "execution_count": 194,
   "metadata": {},
   "outputs": [
    {
     "data": {
      "text/plain": [
       "(100, 11)"
      ]
     },
     "execution_count": 194,
     "metadata": {},
     "output_type": "execute_result"
    }
   ],
   "source": [
    "df.shape"
   ]
  },
  {
   "cell_type": "markdown",
   "metadata": {},
   "source": [
    "+ Просмотр заголовков столбов с помощью свойства `.columns` "
   ]
  },
  {
   "cell_type": "code",
   "execution_count": 195,
   "metadata": {},
   "outputs": [
    {
     "data": {
      "text/plain": [
       "Index(['Код', 'Возраст', 'Среднемесячный расход',\n",
       "       'Средняя продолжительность разговоров', 'Звонков днем за месяц',\n",
       "       'Звонков вечером за месяц', 'Звонков ночью за месяц',\n",
       "       'Звонки в другие города', 'Звонки в другие страны',\n",
       "       'Доля звонков на стационарные телефоны', 'Количество SMS за месяц'],\n",
       "      dtype='object')"
      ]
     },
     "execution_count": 195,
     "metadata": {},
     "output_type": "execute_result"
    }
   ],
   "source": [
    "df.columns"
   ]
  },
  {
   "cell_type": "markdown",
   "metadata": {},
   "source": [
    "- Просмотр информации о типах переменных с помощью свойства `.info()`"
   ]
  },
  {
   "cell_type": "code",
   "execution_count": 196,
   "metadata": {},
   "outputs": [
    {
     "name": "stdout",
     "output_type": "stream",
     "text": [
      "<class 'pandas.core.frame.DataFrame'>\n",
      "RangeIndex: 100 entries, 0 to 99\n",
      "Data columns (total 11 columns):\n",
      "Код                                      100 non-null int64\n",
      "Возраст                                  100 non-null int64\n",
      "Среднемесячный расход                    100 non-null float64\n",
      "Средняя продолжительность разговоров     100 non-null float64\n",
      "Звонков днем за месяц                    100 non-null int64\n",
      "Звонков вечером за месяц                 100 non-null int64\n",
      "Звонков ночью за месяц                   100 non-null int64\n",
      "Звонки в другие города                   100 non-null int64\n",
      "Звонки в другие страны                   100 non-null int64\n",
      "Доля звонков на стационарные телефоны    100 non-null int64\n",
      "Количество SMS за месяц                  100 non-null int64\n",
      "dtypes: float64(2), int64(9)\n",
      "memory usage: 8.7 KB\n",
      "None\n"
     ]
    }
   ],
   "source": [
    "print(df.info())"
   ]
  },
  {
   "cell_type": "markdown",
   "metadata": {},
   "source": [
    "- Вывод общей информации о наличие пропусков во всех переменных можно осуществить, воспользовавшись цепочкой методов `.isnull()` и `.sum()`"
   ]
  },
  {
   "cell_type": "code",
   "execution_count": 197,
   "metadata": {
    "scrolled": true
   },
   "outputs": [
    {
     "data": {
      "text/plain": [
       "Код                                      0\n",
       "Возраст                                  0\n",
       "Среднемесячный расход                    0\n",
       "Средняя продолжительность разговоров     0\n",
       "Звонков днем за месяц                    0\n",
       "Звонков вечером за месяц                 0\n",
       "Звонков ночью за месяц                   0\n",
       "Звонки в другие города                   0\n",
       "Звонки в другие страны                   0\n",
       "Доля звонков на стационарные телефоны    0\n",
       "Количество SMS за месяц                  0\n",
       "dtype: int64"
      ]
     },
     "execution_count": 197,
     "metadata": {},
     "output_type": "execute_result"
    }
   ],
   "source": [
    "df.isnull().sum()"
   ]
  },
  {
   "cell_type": "markdown",
   "metadata": {},
   "source": [
    "## Доступ к данным датафрейма      \n",
    "\n",
    "- Доступ к столбцам;\n",
    "- Доступ к строкам;\n",
    "- Доступ к строкам и столбцам;\n",
    "- Работа со срезами;"
   ]
  },
  {
   "cell_type": "markdown",
   "metadata": {},
   "source": [
    "Доступ к одному или нескольким столбцам по имени"
   ]
  },
  {
   "cell_type": "code",
   "execution_count": 203,
   "metadata": {},
   "outputs": [
    {
     "data": {
      "text/plain": [
       "0    2.4\n",
       "1    1.7\n",
       "2    2.1\n",
       "3    5.6\n",
       "4    4.8\n",
       "Name: Средняя продолжительность разговоров, dtype: float64"
      ]
     },
     "execution_count": 203,
     "metadata": {},
     "output_type": "execute_result"
    }
   ],
   "source": [
    "df['Средняя продолжительность разговоров'].head()"
   ]
  },
  {
   "cell_type": "code",
   "execution_count": 206,
   "metadata": {},
   "outputs": [
    {
     "data": {
      "text/html": [
       "<div>\n",
       "<style scoped>\n",
       "    .dataframe tbody tr th:only-of-type {\n",
       "        vertical-align: middle;\n",
       "    }\n",
       "\n",
       "    .dataframe tbody tr th {\n",
       "        vertical-align: top;\n",
       "    }\n",
       "\n",
       "    .dataframe thead th {\n",
       "        text-align: right;\n",
       "    }\n",
       "</style>\n",
       "<table border=\"1\" class=\"dataframe\">\n",
       "  <thead>\n",
       "    <tr style=\"text-align: right;\">\n",
       "      <th></th>\n",
       "      <th>Возраст</th>\n",
       "      <th>Средняя продолжительность разговоров</th>\n",
       "    </tr>\n",
       "  </thead>\n",
       "  <tbody>\n",
       "    <tr>\n",
       "      <th>0</th>\n",
       "      <td>24</td>\n",
       "      <td>2.4</td>\n",
       "    </tr>\n",
       "    <tr>\n",
       "      <th>1</th>\n",
       "      <td>51</td>\n",
       "      <td>1.7</td>\n",
       "    </tr>\n",
       "    <tr>\n",
       "      <th>2</th>\n",
       "      <td>41</td>\n",
       "      <td>2.1</td>\n",
       "    </tr>\n",
       "    <tr>\n",
       "      <th>3</th>\n",
       "      <td>35</td>\n",
       "      <td>5.6</td>\n",
       "    </tr>\n",
       "    <tr>\n",
       "      <th>4</th>\n",
       "      <td>26</td>\n",
       "      <td>4.8</td>\n",
       "    </tr>\n",
       "  </tbody>\n",
       "</table>\n",
       "</div>"
      ],
      "text/plain": [
       "   Возраст  Средняя продолжительность разговоров\n",
       "0       24                                   2.4\n",
       "1       51                                   1.7\n",
       "2       41                                   2.1\n",
       "3       35                                   5.6\n",
       "4       26                                   4.8"
      ]
     },
     "execution_count": 206,
     "metadata": {},
     "output_type": "execute_result"
    }
   ],
   "source": [
    "df[['Возраст','Средняя продолжительность разговоров']].head()"
   ]
  },
  {
   "cell_type": "markdown",
   "metadata": {},
   "source": [
    "- Доступ к одной или нескольким строкам по индексу через свойства `.loc[]` и `.iloc[]`  "
   ]
  },
  {
   "cell_type": "code",
   "execution_count": 215,
   "metadata": {},
   "outputs": [
    {
     "data": {
      "text/html": [
       "<div>\n",
       "<style scoped>\n",
       "    .dataframe tbody tr th:only-of-type {\n",
       "        vertical-align: middle;\n",
       "    }\n",
       "\n",
       "    .dataframe tbody tr th {\n",
       "        vertical-align: top;\n",
       "    }\n",
       "\n",
       "    .dataframe thead th {\n",
       "        text-align: right;\n",
       "    }\n",
       "</style>\n",
       "<table border=\"1\" class=\"dataframe\">\n",
       "  <thead>\n",
       "    <tr style=\"text-align: right;\">\n",
       "      <th></th>\n",
       "      <th>Код</th>\n",
       "      <th>Возраст</th>\n",
       "      <th>Среднемесячный расход</th>\n",
       "      <th>Средняя продолжительность разговоров</th>\n",
       "      <th>Звонков днем за месяц</th>\n",
       "      <th>Звонков вечером за месяц</th>\n",
       "      <th>Звонков ночью за месяц</th>\n",
       "      <th>Звонки в другие города</th>\n",
       "      <th>Звонки в другие страны</th>\n",
       "      <th>Доля звонков на стационарные телефоны</th>\n",
       "      <th>Количество SMS за месяц</th>\n",
       "    </tr>\n",
       "  </thead>\n",
       "  <tbody>\n",
       "    <tr>\n",
       "      <th>2</th>\n",
       "      <td>2</td>\n",
       "      <td>41</td>\n",
       "      <td>113.7</td>\n",
       "      <td>2.1</td>\n",
       "      <td>41</td>\n",
       "      <td>27</td>\n",
       "      <td>0</td>\n",
       "      <td>0</td>\n",
       "      <td>0</td>\n",
       "      <td>1</td>\n",
       "      <td>36</td>\n",
       "    </tr>\n",
       "    <tr>\n",
       "      <th>4</th>\n",
       "      <td>4</td>\n",
       "      <td>26</td>\n",
       "      <td>537.6</td>\n",
       "      <td>4.8</td>\n",
       "      <td>58</td>\n",
       "      <td>77</td>\n",
       "      <td>4</td>\n",
       "      <td>0</td>\n",
       "      <td>0</td>\n",
       "      <td>16</td>\n",
       "      <td>29</td>\n",
       "    </tr>\n",
       "  </tbody>\n",
       "</table>\n",
       "</div>"
      ],
      "text/plain": [
       "   Код  Возраст  Среднемесячный расход  Средняя продолжительность разговоров  \\\n",
       "2    2       41                  113.7                                   2.1   \n",
       "4    4       26                  537.6                                   4.8   \n",
       "\n",
       "   Звонков днем за месяц  Звонков вечером за месяц  Звонков ночью за месяц  \\\n",
       "2                     41                        27                       0   \n",
       "4                     58                        77                       4   \n",
       "\n",
       "   Звонки в другие города  Звонки в другие страны  \\\n",
       "2                       0                       0   \n",
       "4                       0                       0   \n",
       "\n",
       "   Доля звонков на стационарные телефоны  Количество SMS за месяц  \n",
       "2                                      1                       36  \n",
       "4                                     16                       29  "
      ]
     },
     "execution_count": 215,
     "metadata": {},
     "output_type": "execute_result"
    }
   ],
   "source": [
    "df.loc[[2,4]]"
   ]
  },
  {
   "cell_type": "code",
   "execution_count": 218,
   "metadata": {},
   "outputs": [
    {
     "data": {
      "text/html": [
       "<div>\n",
       "<style scoped>\n",
       "    .dataframe tbody tr th:only-of-type {\n",
       "        vertical-align: middle;\n",
       "    }\n",
       "\n",
       "    .dataframe tbody tr th {\n",
       "        vertical-align: top;\n",
       "    }\n",
       "\n",
       "    .dataframe thead th {\n",
       "        text-align: right;\n",
       "    }\n",
       "</style>\n",
       "<table border=\"1\" class=\"dataframe\">\n",
       "  <thead>\n",
       "    <tr style=\"text-align: right;\">\n",
       "      <th></th>\n",
       "      <th>Код</th>\n",
       "      <th>Возраст</th>\n",
       "      <th>Среднемесячный расход</th>\n",
       "      <th>Средняя продолжительность разговоров</th>\n",
       "      <th>Звонков днем за месяц</th>\n",
       "      <th>Звонков вечером за месяц</th>\n",
       "      <th>Звонков ночью за месяц</th>\n",
       "      <th>Звонки в другие города</th>\n",
       "      <th>Звонки в другие страны</th>\n",
       "      <th>Доля звонков на стационарные телефоны</th>\n",
       "      <th>Количество SMS за месяц</th>\n",
       "    </tr>\n",
       "  </thead>\n",
       "  <tbody>\n",
       "    <tr>\n",
       "      <th>2</th>\n",
       "      <td>2</td>\n",
       "      <td>41</td>\n",
       "      <td>113.7</td>\n",
       "      <td>2.1</td>\n",
       "      <td>41</td>\n",
       "      <td>27</td>\n",
       "      <td>0</td>\n",
       "      <td>0</td>\n",
       "      <td>0</td>\n",
       "      <td>1</td>\n",
       "      <td>36</td>\n",
       "    </tr>\n",
       "    <tr>\n",
       "      <th>4</th>\n",
       "      <td>4</td>\n",
       "      <td>26</td>\n",
       "      <td>537.6</td>\n",
       "      <td>4.8</td>\n",
       "      <td>58</td>\n",
       "      <td>77</td>\n",
       "      <td>4</td>\n",
       "      <td>0</td>\n",
       "      <td>0</td>\n",
       "      <td>16</td>\n",
       "      <td>29</td>\n",
       "    </tr>\n",
       "  </tbody>\n",
       "</table>\n",
       "</div>"
      ],
      "text/plain": [
       "   Код  Возраст  Среднемесячный расход  Средняя продолжительность разговоров  \\\n",
       "2    2       41                  113.7                                   2.1   \n",
       "4    4       26                  537.6                                   4.8   \n",
       "\n",
       "   Звонков днем за месяц  Звонков вечером за месяц  Звонков ночью за месяц  \\\n",
       "2                     41                        27                       0   \n",
       "4                     58                        77                       4   \n",
       "\n",
       "   Звонки в другие города  Звонки в другие страны  \\\n",
       "2                       0                       0   \n",
       "4                       0                       0   \n",
       "\n",
       "   Доля звонков на стационарные телефоны  Количество SMS за месяц  \n",
       "2                                      1                       36  \n",
       "4                                     16                       29  "
      ]
     },
     "execution_count": 218,
     "metadata": {},
     "output_type": "execute_result"
    }
   ],
   "source": [
    "df.iloc[[2,4]]"
   ]
  },
  {
   "cell_type": "markdown",
   "metadata": {},
   "source": [
    "- Работа со срезами     \n",
    "Создание срезов или слайсинг (slicing) --- способ извлечения подмножеств данных из пандасовского объекта.    \n",
    "Формат среза в датафрейме: $[i_{\\text{инд.нач.стр.}}: n_{\\text{инд.кон.стр.}}: i_{\\text{шаг}}, j_{\\text{инд.нач.столб.}}: m_{\\text{инд.кон.столб.}}: j_{\\text{шаг}}$     \n",
    "Здесь $i_{\\text{инд.нач.стр.}},\\, j_{\\text{инд.нач.столб.}}$ и $n_{\\text{инд.кон.стр.}},\\,m_{\\text{инд.кон.столб.}}$ --- начальные и конечные индексы по строкам и столбцам, соответственно; $i_{\\text{шаг}}$ и $j_{\\text{шаг}}$ --- правила изменения приращений по строкам и столбцам, соответственно.    \n",
    "Строка (столбец), соответствующая крайнему указанному индексу $n_{\\text{инд.кон.стр.}}$ $(m_{\\text{инд.кон.столб.}})$ не будет включена в срез.     \n",
    "Если не указаны начальные индекчы среза, то они считаются равными 0. Если не указаны конечные индексы среза, то они считаются равными индексу последней строки (столбца).    \n",
    "Если не указаны приращения, то они считаются равными 1."
   ]
  },
  {
   "cell_type": "code",
   "execution_count": 220,
   "metadata": {},
   "outputs": [
    {
     "data": {
      "text/html": [
       "<div>\n",
       "<style scoped>\n",
       "    .dataframe tbody tr th:only-of-type {\n",
       "        vertical-align: middle;\n",
       "    }\n",
       "\n",
       "    .dataframe tbody tr th {\n",
       "        vertical-align: top;\n",
       "    }\n",
       "\n",
       "    .dataframe thead th {\n",
       "        text-align: right;\n",
       "    }\n",
       "</style>\n",
       "<table border=\"1\" class=\"dataframe\">\n",
       "  <thead>\n",
       "    <tr style=\"text-align: right;\">\n",
       "      <th></th>\n",
       "      <th>Код</th>\n",
       "      <th>Возраст</th>\n",
       "      <th>Среднемесячный расход</th>\n",
       "      <th>Средняя продолжительность разговоров</th>\n",
       "      <th>Звонков днем за месяц</th>\n",
       "      <th>Звонков вечером за месяц</th>\n",
       "      <th>Звонков ночью за месяц</th>\n",
       "      <th>Звонки в другие города</th>\n",
       "      <th>Звонки в другие страны</th>\n",
       "      <th>Доля звонков на стационарные телефоны</th>\n",
       "      <th>Количество SMS за месяц</th>\n",
       "    </tr>\n",
       "  </thead>\n",
       "  <tbody>\n",
       "    <tr>\n",
       "      <th>0</th>\n",
       "      <td>0</td>\n",
       "      <td>24</td>\n",
       "      <td>121.54</td>\n",
       "      <td>2.4</td>\n",
       "      <td>12</td>\n",
       "      <td>65</td>\n",
       "      <td>5</td>\n",
       "      <td>0</td>\n",
       "      <td>0</td>\n",
       "      <td>5</td>\n",
       "      <td>56</td>\n",
       "    </tr>\n",
       "    <tr>\n",
       "      <th>1</th>\n",
       "      <td>1</td>\n",
       "      <td>51</td>\n",
       "      <td>287.51</td>\n",
       "      <td>1.7</td>\n",
       "      <td>111</td>\n",
       "      <td>109</td>\n",
       "      <td>1</td>\n",
       "      <td>44</td>\n",
       "      <td>0</td>\n",
       "      <td>6</td>\n",
       "      <td>1</td>\n",
       "    </tr>\n",
       "    <tr>\n",
       "      <th>2</th>\n",
       "      <td>2</td>\n",
       "      <td>41</td>\n",
       "      <td>113.70</td>\n",
       "      <td>2.1</td>\n",
       "      <td>41</td>\n",
       "      <td>27</td>\n",
       "      <td>0</td>\n",
       "      <td>0</td>\n",
       "      <td>0</td>\n",
       "      <td>1</td>\n",
       "      <td>36</td>\n",
       "    </tr>\n",
       "    <tr>\n",
       "      <th>3</th>\n",
       "      <td>3</td>\n",
       "      <td>35</td>\n",
       "      <td>410.23</td>\n",
       "      <td>5.6</td>\n",
       "      <td>47</td>\n",
       "      <td>49</td>\n",
       "      <td>0</td>\n",
       "      <td>0</td>\n",
       "      <td>0</td>\n",
       "      <td>11</td>\n",
       "      <td>23</td>\n",
       "    </tr>\n",
       "    <tr>\n",
       "      <th>4</th>\n",
       "      <td>4</td>\n",
       "      <td>26</td>\n",
       "      <td>537.60</td>\n",
       "      <td>4.8</td>\n",
       "      <td>58</td>\n",
       "      <td>77</td>\n",
       "      <td>4</td>\n",
       "      <td>0</td>\n",
       "      <td>0</td>\n",
       "      <td>16</td>\n",
       "      <td>29</td>\n",
       "    </tr>\n",
       "    <tr>\n",
       "      <th>...</th>\n",
       "      <td>...</td>\n",
       "      <td>...</td>\n",
       "      <td>...</td>\n",
       "      <td>...</td>\n",
       "      <td>...</td>\n",
       "      <td>...</td>\n",
       "      <td>...</td>\n",
       "      <td>...</td>\n",
       "      <td>...</td>\n",
       "      <td>...</td>\n",
       "      <td>...</td>\n",
       "    </tr>\n",
       "    <tr>\n",
       "      <th>95</th>\n",
       "      <td>96</td>\n",
       "      <td>29</td>\n",
       "      <td>1977.50</td>\n",
       "      <td>18.2</td>\n",
       "      <td>100</td>\n",
       "      <td>78</td>\n",
       "      <td>42</td>\n",
       "      <td>38</td>\n",
       "      <td>0</td>\n",
       "      <td>0</td>\n",
       "      <td>62</td>\n",
       "    </tr>\n",
       "    <tr>\n",
       "      <th>96</th>\n",
       "      <td>97</td>\n",
       "      <td>54</td>\n",
       "      <td>117.37</td>\n",
       "      <td>1.1</td>\n",
       "      <td>69</td>\n",
       "      <td>68</td>\n",
       "      <td>5</td>\n",
       "      <td>22</td>\n",
       "      <td>0</td>\n",
       "      <td>10</td>\n",
       "      <td>3</td>\n",
       "    </tr>\n",
       "    <tr>\n",
       "      <th>97</th>\n",
       "      <td>98</td>\n",
       "      <td>25</td>\n",
       "      <td>336.70</td>\n",
       "      <td>3.7</td>\n",
       "      <td>60</td>\n",
       "      <td>45</td>\n",
       "      <td>2</td>\n",
       "      <td>31</td>\n",
       "      <td>0</td>\n",
       "      <td>22</td>\n",
       "      <td>14</td>\n",
       "    </tr>\n",
       "    <tr>\n",
       "      <th>98</th>\n",
       "      <td>99</td>\n",
       "      <td>54</td>\n",
       "      <td>354.76</td>\n",
       "      <td>2.8</td>\n",
       "      <td>59</td>\n",
       "      <td>98</td>\n",
       "      <td>0</td>\n",
       "      <td>1</td>\n",
       "      <td>0</td>\n",
       "      <td>0</td>\n",
       "      <td>5</td>\n",
       "    </tr>\n",
       "    <tr>\n",
       "      <th>99</th>\n",
       "      <td>100</td>\n",
       "      <td>47</td>\n",
       "      <td>419.97</td>\n",
       "      <td>3.8</td>\n",
       "      <td>33</td>\n",
       "      <td>126</td>\n",
       "      <td>1</td>\n",
       "      <td>3</td>\n",
       "      <td>0</td>\n",
       "      <td>3</td>\n",
       "      <td>3</td>\n",
       "    </tr>\n",
       "  </tbody>\n",
       "</table>\n",
       "<p>100 rows × 11 columns</p>\n",
       "</div>"
      ],
      "text/plain": [
       "    Код  Возраст  Среднемесячный расход  Средняя продолжительность разговоров  \\\n",
       "0     0       24                 121.54                                   2.4   \n",
       "1     1       51                 287.51                                   1.7   \n",
       "2     2       41                 113.70                                   2.1   \n",
       "3     3       35                 410.23                                   5.6   \n",
       "4     4       26                 537.60                                   4.8   \n",
       "..  ...      ...                    ...                                   ...   \n",
       "95   96       29                1977.50                                  18.2   \n",
       "96   97       54                 117.37                                   1.1   \n",
       "97   98       25                 336.70                                   3.7   \n",
       "98   99       54                 354.76                                   2.8   \n",
       "99  100       47                 419.97                                   3.8   \n",
       "\n",
       "    Звонков днем за месяц  Звонков вечером за месяц  Звонков ночью за месяц  \\\n",
       "0                      12                        65                       5   \n",
       "1                     111                       109                       1   \n",
       "2                      41                        27                       0   \n",
       "3                      47                        49                       0   \n",
       "4                      58                        77                       4   \n",
       "..                    ...                       ...                     ...   \n",
       "95                    100                        78                      42   \n",
       "96                     69                        68                       5   \n",
       "97                     60                        45                       2   \n",
       "98                     59                        98                       0   \n",
       "99                     33                       126                       1   \n",
       "\n",
       "    Звонки в другие города  Звонки в другие страны  \\\n",
       "0                        0                       0   \n",
       "1                       44                       0   \n",
       "2                        0                       0   \n",
       "3                        0                       0   \n",
       "4                        0                       0   \n",
       "..                     ...                     ...   \n",
       "95                      38                       0   \n",
       "96                      22                       0   \n",
       "97                      31                       0   \n",
       "98                       1                       0   \n",
       "99                       3                       0   \n",
       "\n",
       "    Доля звонков на стационарные телефоны  Количество SMS за месяц  \n",
       "0                                       5                       56  \n",
       "1                                       6                        1  \n",
       "2                                       1                       36  \n",
       "3                                      11                       23  \n",
       "4                                      16                       29  \n",
       "..                                    ...                      ...  \n",
       "95                                      0                       62  \n",
       "96                                     10                        3  \n",
       "97                                     22                       14  \n",
       "98                                      0                        5  \n",
       "99                                      3                        3  \n",
       "\n",
       "[100 rows x 11 columns]"
      ]
     },
     "execution_count": 220,
     "metadata": {},
     "output_type": "execute_result"
    }
   ],
   "source": [
    "df.iloc[:,:]"
   ]
  },
  {
   "cell_type": "code",
   "execution_count": 221,
   "metadata": {},
   "outputs": [
    {
     "data": {
      "text/html": [
       "<div>\n",
       "<style scoped>\n",
       "    .dataframe tbody tr th:only-of-type {\n",
       "        vertical-align: middle;\n",
       "    }\n",
       "\n",
       "    .dataframe tbody tr th {\n",
       "        vertical-align: top;\n",
       "    }\n",
       "\n",
       "    .dataframe thead th {\n",
       "        text-align: right;\n",
       "    }\n",
       "</style>\n",
       "<table border=\"1\" class=\"dataframe\">\n",
       "  <thead>\n",
       "    <tr style=\"text-align: right;\">\n",
       "      <th></th>\n",
       "      <th>Код</th>\n",
       "      <th>Возраст</th>\n",
       "      <th>Среднемесячный расход</th>\n",
       "      <th>Средняя продолжительность разговоров</th>\n",
       "      <th>Звонков днем за месяц</th>\n",
       "      <th>Звонков вечером за месяц</th>\n",
       "      <th>Звонков ночью за месяц</th>\n",
       "      <th>Звонки в другие города</th>\n",
       "      <th>Звонки в другие страны</th>\n",
       "      <th>Доля звонков на стационарные телефоны</th>\n",
       "      <th>Количество SMS за месяц</th>\n",
       "    </tr>\n",
       "  </thead>\n",
       "  <tbody>\n",
       "    <tr>\n",
       "      <th>1</th>\n",
       "      <td>1</td>\n",
       "      <td>51</td>\n",
       "      <td>287.51</td>\n",
       "      <td>1.7</td>\n",
       "      <td>111</td>\n",
       "      <td>109</td>\n",
       "      <td>1</td>\n",
       "      <td>44</td>\n",
       "      <td>0</td>\n",
       "      <td>6</td>\n",
       "      <td>1</td>\n",
       "    </tr>\n",
       "    <tr>\n",
       "      <th>3</th>\n",
       "      <td>3</td>\n",
       "      <td>35</td>\n",
       "      <td>410.23</td>\n",
       "      <td>5.6</td>\n",
       "      <td>47</td>\n",
       "      <td>49</td>\n",
       "      <td>0</td>\n",
       "      <td>0</td>\n",
       "      <td>0</td>\n",
       "      <td>11</td>\n",
       "      <td>23</td>\n",
       "    </tr>\n",
       "    <tr>\n",
       "      <th>5</th>\n",
       "      <td>5</td>\n",
       "      <td>26</td>\n",
       "      <td>324.56</td>\n",
       "      <td>3.3</td>\n",
       "      <td>45</td>\n",
       "      <td>75</td>\n",
       "      <td>3</td>\n",
       "      <td>1</td>\n",
       "      <td>1</td>\n",
       "      <td>8</td>\n",
       "      <td>15</td>\n",
       "    </tr>\n",
       "  </tbody>\n",
       "</table>\n",
       "</div>"
      ],
      "text/plain": [
       "   Код  Возраст  Среднемесячный расход  Средняя продолжительность разговоров  \\\n",
       "1    1       51                 287.51                                   1.7   \n",
       "3    3       35                 410.23                                   5.6   \n",
       "5    5       26                 324.56                                   3.3   \n",
       "\n",
       "   Звонков днем за месяц  Звонков вечером за месяц  Звонков ночью за месяц  \\\n",
       "1                    111                       109                       1   \n",
       "3                     47                        49                       0   \n",
       "5                     45                        75                       3   \n",
       "\n",
       "   Звонки в другие города  Звонки в другие страны  \\\n",
       "1                      44                       0   \n",
       "3                       0                       0   \n",
       "5                       1                       1   \n",
       "\n",
       "   Доля звонков на стационарные телефоны  Количество SMS за месяц  \n",
       "1                                      6                        1  \n",
       "3                                     11                       23  \n",
       "5                                      8                       15  "
      ]
     },
     "execution_count": 221,
     "metadata": {},
     "output_type": "execute_result"
    }
   ],
   "source": [
    "df.iloc[1:6:2,:]"
   ]
  },
  {
   "cell_type": "code",
   "execution_count": 222,
   "metadata": {},
   "outputs": [
    {
     "data": {
      "text/html": [
       "<div>\n",
       "<style scoped>\n",
       "    .dataframe tbody tr th:only-of-type {\n",
       "        vertical-align: middle;\n",
       "    }\n",
       "\n",
       "    .dataframe tbody tr th {\n",
       "        vertical-align: top;\n",
       "    }\n",
       "\n",
       "    .dataframe thead th {\n",
       "        text-align: right;\n",
       "    }\n",
       "</style>\n",
       "<table border=\"1\" class=\"dataframe\">\n",
       "  <thead>\n",
       "    <tr style=\"text-align: right;\">\n",
       "      <th></th>\n",
       "      <th>Код</th>\n",
       "    </tr>\n",
       "  </thead>\n",
       "  <tbody>\n",
       "    <tr>\n",
       "      <th>0</th>\n",
       "      <td>0</td>\n",
       "    </tr>\n",
       "    <tr>\n",
       "      <th>2</th>\n",
       "      <td>2</td>\n",
       "    </tr>\n",
       "    <tr>\n",
       "      <th>4</th>\n",
       "      <td>4</td>\n",
       "    </tr>\n",
       "  </tbody>\n",
       "</table>\n",
       "</div>"
      ],
      "text/plain": [
       "   Код\n",
       "0    0\n",
       "2    2\n",
       "4    4"
      ]
     },
     "execution_count": 222,
     "metadata": {},
     "output_type": "execute_result"
    }
   ],
   "source": [
    "df.iloc[0:6:2,:1:1]"
   ]
  },
  {
   "cell_type": "markdown",
   "metadata": {},
   "source": [
    "Для получения только значений среза можно воспользоваться свойством `.values`"
   ]
  },
  {
   "cell_type": "code",
   "execution_count": 223,
   "metadata": {},
   "outputs": [
    {
     "data": {
      "text/plain": [
       "array([[0],\n",
       "       [2],\n",
       "       [4]], dtype=int64)"
      ]
     },
     "execution_count": 223,
     "metadata": {},
     "output_type": "execute_result"
    }
   ],
   "source": [
    "df.iloc[0:6:2,:1:1].values"
   ]
  },
  {
   "cell_type": "markdown",
   "metadata": {},
   "source": [
    "## Редактирование датафрейма     \n",
    "- Удаление столбцов\n",
    "    - С помощью ключевого слова `del`\n",
    "    - C помощью метода `.pop()`\n",
    "    - С помощью метода `.drop()` "
   ]
  },
  {
   "cell_type": "markdown",
   "metadata": {},
   "source": [
    "Удаление столбца 'Код', не слияющего на результаты анализа"
   ]
  },
  {
   "cell_type": "code",
   "execution_count": 123,
   "metadata": {},
   "outputs": [],
   "source": [
    "del df['Код']"
   ]
  },
  {
   "cell_type": "markdown",
   "metadata": {},
   "source": [
    "## Иерархическая кластеризация: агломеративный алгоритм \n",
    "\n",
    "Для изучания материала рекомендуется воспользоваться ресурсом [2]    \n",
    "Иерархическая кластеризация реализована в модуле `scipy.cluster.hierarchy`.    \n",
    "Импортируем из этого модуля методы:    \n",
    "- `.linkage()` -- выполняет иерархическую (агломеративную) кластеризацию; \n",
    "- `.fcluster()` -- \n",
    "- `.dendrogram()` -- строит дендрограмму.  \n",
    "\n",
    "Метод `.linkage()` имеет следующую спецификацию `linkage(y[, method, metric, optimal_ordering])`:    \n",
    "- y -- матрица попарных расстояний или исходных данных (в матрице не должно быть пробелов или категориальных значений)\n",
    "- method -- правило, по которому будут рассчитываться расстояния между кластерами:    \n",
    "    - `single`\n",
    "    - `complete`\n",
    "    - `average`\n",
    "    - `weighted`\n",
    "    - `centroid`\n",
    "    - `median`\n",
    "    - `ward`\n",
    "- metric -- метрика: `braycurtis`, `canberra`, `chebyshev`, `cityblock`, `correlation`, `cosine`, `dice`, `euclidean`, `hamming`, `jaccard`, `jensenshannon`, `kulsinski`, `mahalanobis`, `matching`, `minkowsk`, `rogerstanimoto`, `russellrao`, `seuclidean`, `sokalmichener`, `sokalsneath`, `sqeuclidean`, `yule`."
   ]
  },
  {
   "cell_type": "code",
   "execution_count": 134,
   "metadata": {},
   "outputs": [],
   "source": [
    "from scipy.cluster.hierarchy import linkage, dendrogram, fcluster\n",
    "import matplotlib.pyplot as plt\n",
    "import numpy as np"
   ]
  },
  {
   "cell_type": "code",
   "execution_count": 186,
   "metadata": {},
   "outputs": [],
   "source": [
    "X=df.iloc[:,:].values\n",
    "X=(X-X.mean(axis=0))/X.std(axis=0)"
   ]
  },
  {
   "cell_type": "code",
   "execution_count": 187,
   "metadata": {},
   "outputs": [
    {
     "name": "stdout",
     "output_type": "stream",
     "text": [
      "[[-1.70439203 -1.59063524 -0.61591432 ... -0.33786869 -0.542543\n",
      "   1.9595218 ]\n",
      " [-1.670126    0.45446721 -0.33339567 ... -0.33786869 -0.45105177\n",
      "  -0.76823571]\n",
      " [-1.63585998 -0.30297814 -0.62925978 ... -0.33786869 -0.90850793\n",
      "   0.96760998]\n",
      " ...\n",
      " [ 1.65367831 -1.51489071 -0.24966311 ... -0.33786869  1.01280794\n",
      "  -0.12349302]\n",
      " [ 1.68794434  0.68170082 -0.21892089 ... -0.33786869 -0.99999916\n",
      "  -0.56985334]\n",
      " [ 1.72221036  0.15148907 -0.10791865 ... -0.33786869 -0.72552547\n",
      "  -0.66904452]]\n"
     ]
    }
   ],
   "source": [
    "print(X)"
   ]
  },
  {
   "cell_type": "code",
   "execution_count": 170,
   "metadata": {},
   "outputs": [
    {
     "data": {
      "text/plain": [
       "array([-8.32667268e-18, -3.69149156e-17, -1.08246745e-16,  8.43769499e-17,\n",
       "        7.10542736e-17, -1.83186799e-17,  3.33066907e-17,  9.99200722e-18,\n",
       "        1.33226763e-17,  8.54871729e-17])"
      ]
     },
     "execution_count": 170,
     "metadata": {},
     "output_type": "execute_result"
    }
   ],
   "source": [
    "X.mean(axis=0)"
   ]
  },
  {
   "cell_type": "code",
   "execution_count": 171,
   "metadata": {},
   "outputs": [
    {
     "data": {
      "text/plain": [
       "array([1., 1., 1., 1., 1., 1., 1., 1., 1., 1.])"
      ]
     },
     "execution_count": 171,
     "metadata": {},
     "output_type": "execute_result"
    }
   ],
   "source": [
    "X.std(axis=0)"
   ]
  },
  {
   "cell_type": "code",
   "execution_count": 172,
   "metadata": {},
   "outputs": [
    {
     "data": {
      "image/png": "[encoded data removed]",
      "text/plain": [
       "<Figure size 432x288 with 1 Axes>"
      ]
     },
     "metadata": {
      "needs_background": "light"
     },
     "output_type": "display_data"
    }
   ],
   "source": [
    "mergings = linkage(X, method='ward') #complete, single\n",
    "r=plt.figure()\n",
    "dendrogram(mergings)\n",
    "r.savefig('1.png', dpi = 300)"
   ]
  },
  {
   "cell_type": "code",
   "execution_count": 131,
   "metadata": {},
   "outputs": [
    {
     "name": "stdout",
     "output_type": "stream",
     "text": [
      "[[1.90000000e+01 7.00000000e+01 4.71682096e+00 2.00000000e+00]\n",
      " [8.20000000e+01 1.00000000e+02 7.77381073e+00 3.00000000e+00]\n",
      " [5.00000000e+01 5.10000000e+01 8.56738000e+00 2.00000000e+00]\n",
      " [2.00000000e+01 1.02000000e+02 9.97434041e+00 3.00000000e+00]\n",
      " [7.00000000e+00 7.70000000e+01 1.01081353e+01 2.00000000e+00]\n",
      " [4.70000000e+01 7.60000000e+01 1.11121555e+01 2.00000000e+00]\n",
      " [9.00000000e+01 1.01000000e+02 1.14852260e+01 4.00000000e+00]\n",
      " [4.60000000e+01 6.60000000e+01 1.43797218e+01 2.00000000e+00]\n",
      " [1.50000000e+01 1.05000000e+02 1.50620937e+01 3.00000000e+00]\n",
      " [5.00000000e+00 2.20000000e+01 1.51982762e+01 2.00000000e+00]\n",
      " [6.10000000e+01 6.80000000e+01 2.02012401e+01 2.00000000e+00]\n",
      " [2.70000000e+01 5.50000000e+01 2.19635812e+01 2.00000000e+00]\n",
      " [8.70000000e+01 1.06000000e+02 2.35428734e+01 5.00000000e+00]\n",
      " [8.00000000e+00 9.20000000e+01 2.37973129e+01 2.00000000e+00]\n",
      " [1.04000000e+02 1.07000000e+02 2.67133862e+01 4.00000000e+00]\n",
      " [6.50000000e+01 8.60000000e+01 2.75637516e+01 2.00000000e+00]\n",
      " [4.40000000e+01 6.20000000e+01 2.93901072e+01 2.00000000e+00]\n",
      " [8.40000000e+01 1.09000000e+02 3.05683409e+01 3.00000000e+00]\n",
      " [3.80000000e+01 4.30000000e+01 3.06776808e+01 2.00000000e+00]\n",
      " [9.80000000e+01 1.11000000e+02 3.14504377e+01 3.00000000e+00]\n",
      " [4.50000000e+01 8.50000000e+01 3.15140937e+01 2.00000000e+00]\n",
      " [3.40000000e+01 6.30000000e+01 3.19373700e+01 2.00000000e+00]\n",
      " [8.00000000e+01 8.90000000e+01 3.24002917e+01 2.00000000e+00]\n",
      " [3.10000000e+01 5.90000000e+01 3.49239688e+01 2.00000000e+00]\n",
      " [3.00000000e+00 5.20000000e+01 3.67138680e+01 2.00000000e+00]\n",
      " [2.60000000e+01 8.10000000e+01 3.68963806e+01 2.00000000e+00]\n",
      " [4.00000000e+00 4.90000000e+01 3.70488340e+01 2.00000000e+00]\n",
      " [2.80000000e+01 7.80000000e+01 3.77944983e+01 2.00000000e+00]\n",
      " [2.00000000e+00 2.40000000e+01 3.82826018e+01 2.00000000e+00]\n",
      " [4.10000000e+01 1.20000000e+02 3.83194385e+01 3.00000000e+00]\n",
      " [1.20000000e+01 1.25000000e+02 3.95116544e+01 3.00000000e+00]\n",
      " [2.50000000e+01 7.30000000e+01 4.08005404e+01 2.00000000e+00]\n",
      " [6.00000000e+00 1.24000000e+02 4.09183777e+01 3.00000000e+00]\n",
      " [7.40000000e+01 9.30000000e+01 4.10779126e+01 2.00000000e+00]\n",
      " [6.40000000e+01 1.17000000e+02 4.17953913e+01 4.00000000e+00]\n",
      " [2.10000000e+01 5.60000000e+01 4.19094452e+01 2.00000000e+00]\n",
      " [1.70000000e+01 1.10000000e+02 4.30403024e+01 3.00000000e+00]\n",
      " [1.03000000e+02 1.08000000e+02 4.30887162e+01 6.00000000e+00]\n",
      " [3.00000000e+01 1.28000000e+02 4.36449524e+01 3.00000000e+00]\n",
      " [1.80000000e+01 1.18000000e+02 4.54131703e+01 3.00000000e+00]\n",
      " [1.12000000e+02 1.14000000e+02 4.56172103e+01 9.00000000e+00]\n",
      " [3.20000000e+01 1.13000000e+02 4.64245485e+01 3.00000000e+00]\n",
      " [5.40000000e+01 7.10000000e+01 4.83209520e+01 2.00000000e+00]\n",
      " [9.00000000e+00 1.27000000e+02 5.01002864e+01 3.00000000e+00]\n",
      " [9.70000000e+01 1.29000000e+02 5.11283066e+01 4.00000000e+00]\n",
      " [9.60000000e+01 1.22000000e+02 5.42615705e+01 3.00000000e+00]\n",
      " [6.00000000e+01 6.70000000e+01 5.44201764e+01 2.00000000e+00]\n",
      " [1.10000000e+01 1.26000000e+02 5.99217893e+01 3.00000000e+00]\n",
      " [4.00000000e+01 9.40000000e+01 6.10756424e+01 2.00000000e+00]\n",
      " [3.60000000e+01 3.90000000e+01 6.34126557e+01 2.00000000e+00]\n",
      " [1.40000000e+01 4.20000000e+01 6.88346570e+01 2.00000000e+00]\n",
      " [1.30000000e+01 1.23000000e+02 6.94152231e+01 3.00000000e+00]\n",
      " [1.30000000e+02 1.42000000e+02 6.99841212e+01 5.00000000e+00]\n",
      " [3.50000000e+01 1.43000000e+02 7.02878108e+01 4.00000000e+00]\n",
      " [3.70000000e+01 1.44000000e+02 7.11043414e+01 5.00000000e+00]\n",
      " [1.60000000e+01 1.33000000e+02 7.13707982e+01 3.00000000e+00]\n",
      " [1.16000000e+02 1.46000000e+02 7.26012038e+01 4.00000000e+00]\n",
      " [1.35000000e+02 1.36000000e+02 7.31362456e+01 5.00000000e+00]\n",
      " [4.80000000e+01 1.49000000e+02 7.33376050e+01 3.00000000e+00]\n",
      " [0.00000000e+00 1.31000000e+02 7.36207908e+01 3.00000000e+00]\n",
      " [1.19000000e+02 1.34000000e+02 7.89444355e+01 7.00000000e+00]\n",
      " [5.30000000e+01 9.50000000e+01 8.24127393e+01 2.00000000e+00]\n",
      " [1.15000000e+02 1.21000000e+02 8.29658966e+01 4.00000000e+00]\n",
      " [2.90000000e+01 7.90000000e+01 8.35264778e+01 2.00000000e+00]\n",
      " [3.30000000e+01 1.54000000e+02 8.47853250e+01 6.00000000e+00]\n",
      " [1.47000000e+02 1.55000000e+02 8.73499330e+01 6.00000000e+00]\n",
      " [1.39000000e+02 1.53000000e+02 9.40120866e+01 7.00000000e+00]\n",
      " [1.45000000e+02 1.59000000e+02 9.71954061e+01 6.00000000e+00]\n",
      " [1.48000000e+02 1.52000000e+02 9.72141705e+01 7.00000000e+00]\n",
      " [9.90000000e+01 1.32000000e+02 9.85184605e+01 4.00000000e+00]\n",
      " [1.00000000e+00 1.50000000e+02 9.86716075e+01 3.00000000e+00]\n",
      " [1.41000000e+02 1.57000000e+02 1.05771404e+02 8.00000000e+00]\n",
      " [1.38000000e+02 1.67000000e+02 1.06077089e+02 9.00000000e+00]\n",
      " [8.30000000e+01 1.65000000e+02 1.13385165e+02 7.00000000e+00]\n",
      " [6.90000000e+01 1.68000000e+02 1.19458871e+02 8.00000000e+00]\n",
      " [1.37000000e+02 1.40000000e+02 1.22933169e+02 1.50000000e+01]\n",
      " [1.60000000e+02 1.64000000e+02 1.24525585e+02 1.30000000e+01]\n",
      " [1.56000000e+02 1.76000000e+02 1.28930961e+02 1.70000000e+01]\n",
      " [9.10000000e+01 1.58000000e+02 1.30297842e+02 4.00000000e+00]\n",
      " [1.00000000e+01 7.20000000e+01 1.44339877e+02 2.00000000e+00]\n",
      " [7.50000000e+01 8.80000000e+01 1.48766288e+02 2.00000000e+00]\n",
      " [1.66000000e+02 1.71000000e+02 1.50628050e+02 1.50000000e+01]\n",
      " [1.62000000e+02 1.73000000e+02 1.59919630e+02 1.10000000e+01]\n",
      " [1.70000000e+02 1.77000000e+02 1.65765772e+02 2.00000000e+01]\n",
      " [5.70000000e+01 1.63000000e+02 1.73309706e+02 3.00000000e+00]\n",
      " [1.51000000e+02 1.75000000e+02 1.88943015e+02 1.80000000e+01]\n",
      " [5.80000000e+01 1.78000000e+02 1.98778385e+02 5.00000000e+00]\n",
      " [1.69000000e+02 1.83000000e+02 2.35571455e+02 2.40000000e+01]\n",
      " [1.72000000e+02 1.81000000e+02 2.36651284e+02 2.40000000e+01]\n",
      " [1.74000000e+02 1.82000000e+02 2.99535734e+02 1.90000000e+01]\n",
      " [1.84000000e+02 1.86000000e+02 4.61112083e+02 8.00000000e+00]\n",
      " [1.61000000e+02 1.80000000e+02 5.99189585e+02 4.00000000e+00]\n",
      " [1.85000000e+02 1.88000000e+02 7.19013067e+02 4.20000000e+01]\n",
      " [1.87000000e+02 1.89000000e+02 1.05924509e+03 4.30000000e+01]\n",
      " [2.30000000e+01 1.79000000e+02 1.15332975e+03 3.00000000e+00]\n",
      " [1.90000000e+02 1.91000000e+02 1.62227058e+03 1.20000000e+01]\n",
      " [1.92000000e+02 1.93000000e+02 2.11077535e+03 8.50000000e+01]\n",
      " [1.94000000e+02 1.95000000e+02 3.67280893e+03 1.50000000e+01]\n",
      " [1.96000000e+02 1.97000000e+02 6.72119599e+03 1.00000000e+02]]\n"
     ]
    }
   ],
   "source": [
    "pd.set_option('display.precision',3)\n",
    "print(mergings)"
   ]
  },
  {
   "cell_type": "code",
   "execution_count": 132,
   "metadata": {},
   "outputs": [
    {
     "ename": "NameError",
     "evalue": "name 'hierarchy' is not defined",
     "output_type": "error",
     "traceback": [
      "\u001b[1;31m---------------------------------------------------------------------------\u001b[0m",
      "\u001b[1;31mNameError\u001b[0m                                 Traceback (most recent call last)",
      "\u001b[1;32m<ipython-input-132-16a3863bae9a>\u001b[0m in \u001b[0;36m<module>\u001b[1;34m\u001b[0m\n\u001b[1;32m----> 1\u001b[1;33m \u001b[0mhierarchy\u001b[0m\u001b[1;33m.\u001b[0m\u001b[0mlinkage\u001b[0m\u001b[1;33m(\u001b[0m\u001b[0mytdist\u001b[0m\u001b[1;33m,\u001b[0m \u001b[1;34m'single'\u001b[0m\u001b[1;33m)\u001b[0m\u001b[1;33m\u001b[0m\u001b[1;33m\u001b[0m\u001b[0m\n\u001b[0m\u001b[0;32m      2\u001b[0m \u001b[0mplt\u001b[0m\u001b[1;33m.\u001b[0m\u001b[0mfigure\u001b[0m\u001b[1;33m(\u001b[0m\u001b[1;33m)\u001b[0m\u001b[1;33m\u001b[0m\u001b[1;33m\u001b[0m\u001b[0m\n\u001b[0;32m      3\u001b[0m \u001b[1;33m\u001b[0m\u001b[0m\n",
      "\u001b[1;31mNameError\u001b[0m: name 'hierarchy' is not defined"
     ]
    }
   ],
   "source": [
    "hierarchy.linkage(ytdist, 'single')\n",
    ">>> plt.figure()\n",
    ">>> "
   ]
  },
  {
   "cell_type": "code",
   "execution_count": null,
   "metadata": {},
   "outputs": [],
   "source": [
    "dendrogram(mergings,\n",
    "           labels=varieties,\n",
    "           leaf_rotation=90,\n",
    "           leaf_font_size=6,\n",
    "           )\n",
    "\n",
    "plt.show()"
   ]
  },
  {
   "cell_type": "code",
   "execution_count": 42,
   "metadata": {},
   "outputs": [
    {
     "name": "stdout",
     "output_type": "stream",
     "text": [
      "[[ 1.          2.          3.          4.          5.          6.\n",
      "   7.          8.          9.         10.        ]\n",
      " [-0.20554413  7.23456651  9.21355279  7.00944978 11.669758    9.25611603\n",
      "  13.81418824 13.89198106 20.80048479 20.7822308 ]]\n"
     ]
    }
   ],
   "source": [
    "x = np.arange(1,11)\n",
    "y = 2 * x + np.random.randn(10)*2\n",
    "X = np.vstack((x,y))\n",
    "print(X)"
   ]
  },
  {
   "cell_type": "code",
   "execution_count": 12,
   "metadata": {},
   "outputs": [
    {
     "name": "stdout",
     "output_type": "stream",
     "text": [
      "[[157527.00132074  -6740.54933833]\n",
      " [-17622.76384557  -4298.61650433]\n",
      " [  9711.92869037  41493.58848523]\n",
      " [-19806.33973109  -4563.01149429]\n",
      " [-16311.26952678   -724.81241875]\n",
      " [-15962.22691555  -2885.67223874]\n",
      " [-19685.78719505  -4337.9707885 ]\n",
      " [-19546.0478237   -4390.87065074]\n",
      " [-20029.10708072  -4735.8430624 ]\n",
      " [-19448.45747971  -4445.99639957]\n",
      " [-18826.93041294  -4370.24558959]]\n"
     ]
    }
   ],
   "source": [
    "from sklearn.decomposition import PCA\n",
    "pca = PCA(n_components = 2)\n",
    "XPCAreduced = pca.fit_transform(np.transpose(df1))\n",
    "print(XPCAreduced)"
   ]
  },
  {
   "cell_type": "code",
   "execution_count": 15,
   "metadata": {},
   "outputs": [],
   "source": [
    "Xcentered = (X[0] - x.mean(), X[1] - y.mean())\n",
    "m = (x.mean(), y.mean())\n"
   ]
  },
  {
   "cell_type": "code",
   "execution_count": 16,
   "metadata": {},
   "outputs": [],
   "source": [
    "covmat = np.cov(Xcentered)"
   ]
  },
  {
   "cell_type": "code",
   "execution_count": 20,
   "metadata": {},
   "outputs": [
    {
     "ename": "TypeError",
     "evalue": "tuple indices must be integers or slices, not tuple",
     "output_type": "error",
     "traceback": [
      "\u001b[1;31m---------------------------------------------------------------------------\u001b[0m",
      "\u001b[1;31mTypeError\u001b[0m                                 Traceback (most recent call last)",
      "\u001b[1;32m<ipython-input-20-b8dcb437c567>\u001b[0m in \u001b[0;36m<module>\u001b[1;34m\u001b[0m\n\u001b[0;32m      1\u001b[0m \u001b[0mvecs\u001b[0m \u001b[1;33m=\u001b[0m \u001b[0mnp\u001b[0m\u001b[1;33m.\u001b[0m\u001b[0mlinalg\u001b[0m\u001b[1;33m.\u001b[0m\u001b[0meig\u001b[0m\u001b[1;33m(\u001b[0m\u001b[0mcovmat\u001b[0m\u001b[1;33m)\u001b[0m\u001b[1;33m\u001b[0m\u001b[1;33m\u001b[0m\u001b[0m\n\u001b[1;32m----> 2\u001b[1;33m \u001b[0mv\u001b[0m \u001b[1;33m=\u001b[0m \u001b[1;33m-\u001b[0m\u001b[0mvecs\u001b[0m\u001b[1;33m[\u001b[0m\u001b[1;33m:\u001b[0m\u001b[1;33m,\u001b[0m\u001b[1;36m1\u001b[0m\u001b[1;33m]\u001b[0m\u001b[1;33m\u001b[0m\u001b[1;33m\u001b[0m\u001b[0m\n\u001b[0m\u001b[0;32m      3\u001b[0m \u001b[0mXnew\u001b[0m \u001b[1;33m=\u001b[0m \u001b[0mdot\u001b[0m\u001b[1;33m(\u001b[0m\u001b[0mv\u001b[0m\u001b[1;33m,\u001b[0m\u001b[0mXcentered\u001b[0m\u001b[1;33m)\u001b[0m\u001b[1;33m\u001b[0m\u001b[1;33m\u001b[0m\u001b[0m\n\u001b[0;32m      4\u001b[0m \u001b[0mprint\u001b[0m\u001b[1;33m(\u001b[0m\u001b[0mXnew\u001b[0m\u001b[1;33m)\u001b[0m\u001b[1;33m\u001b[0m\u001b[1;33m\u001b[0m\u001b[0m\n",
      "\u001b[1;31mTypeError\u001b[0m: tuple indices must be integers or slices, not tuple"
     ]
    }
   ],
   "source": [
    "vecs = np.linalg.eig(covmat)\n",
    "v = -vecs[:,1]\n",
    "Xnew = dot(v,Xcentered)\n",
    "print(Xnew)\n"
   ]
  },
  {
   "cell_type": "markdown",
   "metadata": {},
   "source": [
    "Литература\n",
    "1. Маккинли У. Python и анализ данных. - М.: ДМК Пресс, 2015. – 482 с.\n",
    "2. https://joernhees.de/blog/2015/08/26/scipy-hierarchical-clustering-and-dendrogram-tutorial/"
   ]
  },
  {
   "cell_type": "code",
   "execution_count": null,
   "metadata": {},
   "outputs": [],
   "source": []
  }
 ],
 "metadata": {
  "kernelspec": {
   "display_name": "Python 3",
   "language": "python",
   "name": "python3"
  },
  "language_info": {
   "codemirror_mode": {
    "name": "ipython",
    "version": 3
   },
   "file_extension": ".py",
   "mimetype": "text/x-python",
   "name": "python",
   "nbconvert_exporter": "python",
   "pygments_lexer": "ipython3",
   "version": "3.7.6"
  }
 },
 "nbformat": 4,
 "nbformat_minor": 2
}
